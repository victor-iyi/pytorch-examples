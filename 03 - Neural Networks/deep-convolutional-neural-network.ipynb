{
 "cells": [
  {
   "cell_type": "markdown",
   "metadata": {},
   "source": [
    "### Depp Convolutional Neural Network\n",
    "\n",
    "In this example, we are going to construct a network that looks like:\n",
    "\n",
    "![Convolutional neural network](../images/mnist.png)"
   ]
  },
  {
   "cell_type": "code",
   "execution_count": 1,
   "metadata": {},
   "outputs": [],
   "source": [
    "import torch\n",
    "import torch.nn as nn\n",
    "import torch.nn.functional as F\n",
    "import torch.optim as optim\n",
    "from torch.autograd import Variable"
   ]
  },
  {
   "cell_type": "markdown",
   "metadata": {},
   "source": [
    "### The Network class"
   ]
  },
  {
   "cell_type": "code",
   "execution_count": 2,
   "metadata": {},
   "outputs": [],
   "source": [
    "class Network(nn.Module):\n",
    "    \n",
    "    def __init__(self, **kwargs):\n",
    "        super(Network, self).__init__()\n",
    "        \n",
    "        # Hyper-parameters\n",
    "        self.lr = kwargs.get('lr', 1e-2)\n",
    "        self.max_iter = kwargs.get('max_iter', 10000)\n",
    "        self.img_channels = kwargs.get('img_channels', 1)\n",
    "        self.num_classes = kwargs.get('num_classes', 10)\n",
    "        \n",
    "        # 2 convolutional & 3 fully connected layers\n",
    "        self.conv1 = nn.Conv2d(self.img_channels, 6, 1)\n",
    "        self.conv2 = nn.Conv2d(6, 16, 1)\n",
    "        flatten_size = self.conv2.out_channels * 8 * 8\n",
    "        self.fc1 = nn.Linear(flatten_size, 120)\n",
    "        self.fc2 = nn.Linear(120, 84)\n",
    "        self.fc3 = nn.Linear(84, self.num_classes)\n",
    "    \n",
    "    def forward(self, x):\n",
    "        # Convolutional layers\n",
    "        x = F.relu(F.max_pool2d(self.conv1(x), 2))\n",
    "        x = F.relu(F.max_pool2d(self.conv2(x), 2))\n",
    "        # Flatten layer\n",
    "        x = x.view(-1, self._flatten(x))\n",
    "        # Fully connected layers\n",
    "        x = F.relu(self.fc1(x))     # relu + linear\n",
    "        x = F.dropout(x, p=0.5)     # 50% dropout\n",
    "        x = F.relu(self.fc2(x))     # relu + linear\n",
    "        x = F.sigmoid(self.fc3(x))  # sigmoid + linear\n",
    "        return x\n",
    "    \n",
    "    def _flatten(self, x):\n",
    "        size = x.size()[1:]  # input shape excluding batch dim.\n",
    "        return torch.Tensor(size).numel()"
   ]
  },
  {
   "cell_type": "markdown",
   "metadata": {},
   "source": [
    "### importing the data"
   ]
  },
  {
   "cell_type": "code",
   "execution_count": 3,
   "metadata": {
    "scrolled": false
   },
   "outputs": [
    {
     "name": "stdout",
     "output_type": "stream",
     "text": [
      "Network(\n",
      "  (conv1): Conv2d (1, 6, kernel_size=(1, 1), stride=(1, 1))\n",
      "  (conv2): Conv2d (6, 16, kernel_size=(1, 1), stride=(1, 1))\n",
      "  (fc1): Linear(in_features=1024, out_features=120)\n",
      "  (fc2): Linear(in_features=120, out_features=84)\n",
      "  (fc3): Linear(in_features=84, out_features=10)\n",
      ")\n"
     ]
    }
   ],
   "source": [
    "net = Network()\n",
    "\n",
    "print(net)"
   ]
  },
  {
   "cell_type": "code",
   "execution_count": 4,
   "metadata": {
    "scrolled": false
   },
   "outputs": [
    {
     "name": "stdout",
     "output_type": "stream",
     "text": [
      "Length of the Network's parameters: 10\n"
     ]
    }
   ],
   "source": [
    "params = list(net.parameters())\n",
    "print(f'Length of the Network\\'s parameters: {len(params)}')"
   ]
  },
  {
   "cell_type": "code",
   "execution_count": 5,
   "metadata": {},
   "outputs": [
    {
     "name": "stdout",
     "output_type": "stream",
     "text": [
      "1st Convolution layer: torch.Size([6, 1, 1, 1])\n",
      "Output params: torch.Size([10, 84])\n"
     ]
    }
   ],
   "source": [
    "conv1_params = params[0]\n",
    "print(f'1st Convolution layer: {conv1_params.size()}')\n",
    "\n",
    "ouput_params = params[-2]\n",
    "print(f'Output params: {ouput_params.size()}')"
   ]
  },
  {
   "cell_type": "code",
   "execution_count": 6,
   "metadata": {},
   "outputs": [
    {
     "name": "stdout",
     "output_type": "stream",
     "text": [
      "conv1_weights = torch.Size([6, 1, 1, 1])\n",
      "conv1_bias = torch.Size([6])\n"
     ]
    }
   ],
   "source": [
    "conv1_weights = net.conv1.weight\n",
    "conv1_bias = net.conv1.bias\n",
    "print(f'conv1_weights = {conv1_weights.size()}')\n",
    "print(f'conv1_bias = {conv1_bias.size()}')"
   ]
  },
  {
   "cell_type": "code",
   "execution_count": 7,
   "metadata": {},
   "outputs": [
    {
     "name": "stdout",
     "output_type": "stream",
     "text": [
      "Output weights = torch.Size([10, 84])\n",
      "Output bias = torch.Size([10])\n"
     ]
    }
   ],
   "source": [
    "output_weights = net.fc3.weight\n",
    "output_bias = net.fc3.bias\n",
    "print(f'Output weights = {output_weights.size()}')\n",
    "print(f'Output bias = {output_bias.size()}')"
   ]
  },
  {
   "cell_type": "code",
   "execution_count": 8,
   "metadata": {},
   "outputs": [
    {
     "name": "stdout",
     "output_type": "stream",
     "text": [
      "Variable containing:\n",
      " 0.5192  0.5030  0.4779  0.4736  0.5014  0.5227  0.5017  0.4992  0.5225  0.5162\n",
      "[torch.FloatTensor of size 1x10]\n",
      "\n"
     ]
    }
   ],
   "source": [
    "# Create fake input & output\n",
    "X_input = Variable(torch.rand(1, 1, 32, 32))\n",
    "y_true = Variable(torch.arange(1, 11))\n",
    "\n",
    "# Make a prediction\n",
    "y_pred = net(X_input)\n",
    "print(y_pred)"
   ]
  },
  {
   "cell_type": "code",
   "execution_count": 9,
   "metadata": {},
   "outputs": [
    {
     "name": "stdout",
     "output_type": "stream",
     "text": [
      "Loss = Variable containing:\n",
      " 7.4218\n",
      "[torch.FloatTensor of size 1]\n",
      "\n"
     ]
    }
   ],
   "source": [
    "# Loss function (Kullback Leibler Divergence)\n",
    "loss_func = nn.KLDivLoss()\n",
    "\n",
    "loss = loss_func(y_pred, y_true)\n",
    "print(f'Loss = {loss}')"
   ]
  },
  {
   "cell_type": "code",
   "execution_count": 10,
   "metadata": {},
   "outputs": [
    {
     "name": "stdout",
     "output_type": "stream",
     "text": [
      "Before: None\n",
      "After: Variable containing:\n",
      "1.00000e-03 *\n",
      "  0.0000\n",
      "  0.0000\n",
      "  2.0978\n",
      "  0.0000\n",
      "  3.9257\n",
      "  0.0000\n",
      "[torch.FloatTensor of size 6]\n",
      "\n"
     ]
    }
   ],
   "source": [
    "# backpropagation\n",
    "net.zero_grad()   # clears all existing gradients to prevent accumulation\n",
    "\n",
    "# Before computing gradients\n",
    "conv1_bias = net.conv1.bias.grad\n",
    "print(f'Before: {conv1_bias}')\n",
    "\n",
    "# The whole graph is differentiated w.r.t. the loss and all Variable \n",
    "# in d graph have .grad Variable accumulated with gradients.\n",
    "loss.backward()\n",
    "\n",
    "# After gradients\n",
    "conv1_bias = net.conv1.bias.grad\n",
    "print(f'After: {conv1_bias}')"
   ]
  },
  {
   "cell_type": "code",
   "execution_count": 11,
   "metadata": {},
   "outputs": [
    {
     "name": "stdout",
     "output_type": "stream",
     "text": [
      "Iter: 10,000"
     ]
    }
   ],
   "source": [
    "# Update weights\n",
    "optimizer = optim.Adam(net.parameters(), lr=1e-2)\n",
    "\n",
    "for i in range(10000):\n",
    "    optimizer.zero_grad()  # zero out the gradient buffer\n",
    "\n",
    "    y_pred = net(X_input)\n",
    "\n",
    "    loss = loss_func(y_pred, y_true)\n",
    "    loss.backward()\n",
    "\n",
    "    optimizer.step()  # Does gradient decent update.\n",
    "    print(f'\\rIter: {i+1:,}', end='')"
   ]
  },
  {
   "cell_type": "code",
   "execution_count": 15,
   "metadata": {},
   "outputs": [
    {
     "name": "stdout",
     "output_type": "stream",
     "text": [
      "Variable containing:\n",
      "    1     1     1     1     1     1     1     1     1     1\n",
      "[torch.FloatTensor of size 1x10]\n",
      "\n",
      "Variable containing:\n",
      "  1\n",
      "  2\n",
      "  3\n",
      "  4\n",
      "  5\n",
      "  6\n",
      "  7\n",
      "  8\n",
      "  9\n",
      " 10\n",
      "[torch.FloatTensor of size 10]\n",
      "\n"
     ]
    }
   ],
   "source": [
    "y_pred = net(X_input)\n",
    "print(y_pred)\n",
    "print(y_true)"
   ]
  },
  {
   "cell_type": "code",
   "execution_count": null,
   "metadata": {},
   "outputs": [],
   "source": []
  },
  {
   "cell_type": "code",
   "execution_count": null,
   "metadata": {},
   "outputs": [],
   "source": []
  }
 ],
 "metadata": {
  "kernelspec": {
   "display_name": "Python 3",
   "language": "python",
   "name": "python3"
  },
  "language_info": {
   "codemirror_mode": {
    "name": "ipython",
    "version": 3
   },
   "file_extension": ".py",
   "mimetype": "text/x-python",
   "name": "python",
   "nbconvert_exporter": "python",
   "pygments_lexer": "ipython3",
   "version": "3.6.4"
  }
 },
 "nbformat": 4,
 "nbformat_minor": 2
}
