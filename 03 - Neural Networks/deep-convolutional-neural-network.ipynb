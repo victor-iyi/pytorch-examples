{
 "cells": [
  {
   "cell_type": "markdown",
   "metadata": {},
   "source": [
    "### Depp Convolutional Neural Network\n",
    "\n",
    "In this example, we are going to construct a network that looks like:\n",
    "\n",
    "![Convolutional neural network](../images/mnist-convnet.png)"
   ]
  },
  {
   "cell_type": "code",
   "execution_count": 1,
   "metadata": {},
   "outputs": [],
   "source": [
    "import torch\n",
    "import torch.nn as nn\n",
    "import torch.nn.functional as F\n",
    "import torch.optim as optim\n",
    "from torch.autograd import Variable"
   ]
  },
  {
   "cell_type": "markdown",
   "metadata": {},
   "source": [
    "### The Network class"
   ]
  },
  {
   "cell_type": "code",
   "execution_count": 137,
   "metadata": {},
   "outputs": [],
   "source": [
    "class Network(nn.Module):\n",
    "    \n",
    "    def __init__(self, **kwargs):\n",
    "        super(Network, self).__init__()\n",
    "        \n",
    "        # Hyper-parameters\n",
    "        self.lr = kwargs.get('lr', 1e-2)\n",
    "        self.max_iter = kwargs.get('max_iter', 10000)\n",
    "        self.img_channels = kwargs.get('img_channels', 1)\n",
    "        self.num_classes = kwargs.get('num_classes', 10)\n",
    "        \n",
    "        # 2 convolutional & 3 fully connected layers\n",
    "        self.conv1 = nn.Conv2d(self.img_channels, 6, 1)\n",
    "        self.conv2 = nn.Conv2d(6, 16, 1)\n",
    "        flatten_size = self.conv2.out_channels * 8 * 8\n",
    "        self.fc1 = nn.Linear(flatten_size, 120)\n",
    "        self.fc2 = nn.Linear(120, 84)\n",
    "        self.fc3 = nn.Linear(84, self.num_classes)\n",
    "    \n",
    "    def forward(self, x):\n",
    "        # Convolutional layers\n",
    "        x = F.relu(F.max_pool2d(self.conv1(x), 2))\n",
    "        x = F.relu(F.max_pool2d(self.conv2(x), 2))\n",
    "        # Flatten layer\n",
    "        x = x.view(-1, self._flatten(x))\n",
    "        # Fully connected layers\n",
    "        x = F.relu(self.fc1(x))     # relu + linear\n",
    "        x = F.dropout(x, p=0.5)     # 50% dropout\n",
    "        x = F.relu(self.fc2(x))     # relu + linear\n",
    "        x = F.sigmoid(self.fc3(x))  # sigmoid + linear\n",
    "        return x\n",
    "    \n",
    "    def _flatten(self, x):\n",
    "        size = x.size()[1:]  # input shape excluding batch dim.\n",
    "        return torch.Tensor(size).numel()"
   ]
  },
  {
   "cell_type": "markdown",
   "metadata": {},
   "source": [
    "### importing the data"
   ]
  },
  {
   "cell_type": "code",
   "execution_count": 138,
   "metadata": {
    "scrolled": false
   },
   "outputs": [
    {
     "name": "stdout",
     "output_type": "stream",
     "text": [
      "Network(\n",
      "  (conv1): Conv2d (1, 6, kernel_size=(1, 1), stride=(1, 1))\n",
      "  (conv2): Conv2d (6, 16, kernel_size=(1, 1), stride=(1, 1))\n",
      "  (fc1): Linear(in_features=1024, out_features=120)\n",
      "  (fc2): Linear(in_features=120, out_features=84)\n",
      "  (fc3): Linear(in_features=84, out_features=10)\n",
      ")\n"
     ]
    }
   ],
   "source": [
    "net = Network()\n",
    "\n",
    "print(net)"
   ]
  },
  {
   "cell_type": "code",
   "execution_count": 140,
   "metadata": {
    "scrolled": false
   },
   "outputs": [
    {
     "name": "stdout",
     "output_type": "stream",
     "text": [
      "Variable containing:\n",
      "  1\n",
      "  2\n",
      "  3\n",
      "  4\n",
      "  5\n",
      "  6\n",
      "  7\n",
      "  8\n",
      "  9\n",
      " 10\n",
      "[torch.FloatTensor of size 10]\n",
      "\n"
     ]
    }
   ],
   "source": [
    "# Input image\n",
    "X_image = Variable(torch.randn(1, 1, 32, 32))\n",
    "y_true = torch.zeros(1, 10)\n",
    "y_true[]\n",
    "y_true = Variable(y_true)\n",
    "# Net prediction\n",
    "y_pred = net(X_image)\n",
    "print(y_true)"
   ]
  },
  {
   "cell_type": "code",
   "execution_count": null,
   "metadata": {},
   "outputs": [],
   "source": []
  },
  {
   "cell_type": "code",
   "execution_count": null,
   "metadata": {},
   "outputs": [],
   "source": []
  }
 ],
 "metadata": {
  "kernelspec": {
   "display_name": "Python 3",
   "language": "python",
   "name": "python3"
  },
  "language_info": {
   "codemirror_mode": {
    "name": "ipython",
    "version": 3
   },
   "file_extension": ".py",
   "mimetype": "text/x-python",
   "name": "python",
   "nbconvert_exporter": "python",
   "pygments_lexer": "ipython3",
   "version": "3.6.4"
  }
 },
 "nbformat": 4,
 "nbformat_minor": 2
}
