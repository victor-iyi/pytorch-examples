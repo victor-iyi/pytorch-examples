{
 "cells": [
  {
   "cell_type": "markdown",
   "metadata": {},
   "source": [
    "### Train a 2-layer LSTM network to find patterns in time-series data."
   ]
  },
  {
   "cell_type": "code",
   "execution_count": 8,
   "metadata": {},
   "outputs": [],
   "source": [
    "%matplotlib inline\n",
    "\n",
    "\n",
    "import numpy as np\n",
    "from matplotlib import pyplot as plt\n",
    "\n",
    "import torch\n",
    "import torch.nn as nn\n",
    "import torch.optim as optim\n",
    "# from torch.autograd import Variable"
   ]
  },
  {
   "cell_type": "code",
   "execution_count": null,
   "metadata": {},
   "outputs": [],
   "source": [
    "class Sequence(nn.Module):\n",
    "    def __init__(self, hidden_size=50):\n",
    "        super(Sequence, self).__init__()\n",
    "        \n",
    "        # Hidden layer.\n",
    "        self.hidden_size = hidden_size + 1\n",
    "        \n",
    "        # Network architecture.\n",
    "        self.lstm1 = nn.LSTMCell(input_size=1,\n",
    "                                 hidden_size=self.hidden_size)\n",
    "        self.lstm2 = nn.LSTMCell(input_size=self.hidden_size,\n",
    "                                 hidden_size=self.hidden_size)\n",
    "        self.linear = nn.Linear(in_features=self.hidden_size,\n",
    "                                out_features=1)\n",
    "\n",
    "\n",
    "    def forward(self, inputs:torch.tensor, future=0):\n",
    "        # print(inputs)\n",
    "        input_size = inputs.size()\n",
    "        \n",
    "        # Hidden & cell state of 1st LSTM layer.\n",
    "        h_t1 = torch.zeros(input_size, self.hidden_size,\n",
    "                           dtype=torch.double)\n",
    "        c_t1 = torch.zeros(input_size, self.hidden_size,\n",
    "                           dtype=torch.double)\n",
    "        \n",
    "        # Hidden & cell state for 2nd LSTM layer.\n",
    "        h_t2 = torch.zeros(input_size, self.hidden_size,\n",
    "                           dtype=torch.double)\n",
    "        c_t2 = torch.zeros(input_size, self.hidden_size,\n",
    "                           dtype=torch.double)\n",
    "        \n",
    "        # Outputs\n",
    "        outputs = []\n",
    "        for t, input_t in enumerate(inputs.chunk(input_size, dim=1)):\n",
    "            h_t1, c_t1 = self.lstm1(input=input_t, weight=(h_t1, c_t1))\n",
    "            h_t2, c_t2 = self.lstm2(h_t1, (h_t2, c_t2))\n",
    "            output = self.linear(h_t2)\n",
    "            outputs.append(output)\n",
    "            \n",
    "        # If we should predict the future.\n",
    "        for i in range(future):\n",
    "            pass"
   ]
  },
  {
   "cell_type": "code",
   "execution_count": null,
   "metadata": {},
   "outputs": [],
   "source": []
  }
 ],
 "metadata": {
  "kernelspec": {
   "display_name": "Python 3",
   "language": "python",
   "name": "python3"
  },
  "language_info": {
   "codemirror_mode": {
    "name": "ipython",
    "version": 3
   },
   "file_extension": ".py",
   "mimetype": "text/x-python",
   "name": "python",
   "nbconvert_exporter": "python",
   "pygments_lexer": "ipython3",
   "version": "3.6.5"
  }
 },
 "nbformat": 4,
 "nbformat_minor": 2
}
