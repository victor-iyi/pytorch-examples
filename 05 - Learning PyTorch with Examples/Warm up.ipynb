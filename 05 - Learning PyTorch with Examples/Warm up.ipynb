{
 "cells": [
  {
   "cell_type": "markdown",
   "metadata": {},
   "source": [
    "# Warm up – `NumPy`"
   ]
  },
  {
   "cell_type": "markdown",
   "metadata": {},
   "source": [
    "Before introducing `PyTorch`, we will first implement the network using `numpy`.\n",
    "\n",
    "Numpy provides an *n-dimensional* array object, and many functions for manipulating these arrays. Numpy is a generic framework for scientific computing; it does not know anything about computation graphs, or deep learning, or gradients. However we can easily use numpy to fit a two-layer network to random data by manually implementing the forward and backward passes through the network using numpy operations:"
   ]
  },
  {
   "cell_type": "code",
   "execution_count": 1,
   "metadata": {},
   "outputs": [],
   "source": [
    "# Typical NumPy import.\n",
    "import numpy as np"
   ]
  },
  {
   "cell_type": "code",
   "execution_count": 2,
   "metadata": {},
   "outputs": [],
   "source": [
    "# N is batch size; D_in is input dimension;\n",
    "# H is hidden dimension; D_out is output dimension.\n",
    "N, D_in, H, D_out = 64, 1000, 100, 10"
   ]
  },
  {
   "cell_type": "code",
   "execution_count": 3,
   "metadata": {},
   "outputs": [],
   "source": [
    "# Create random input and output data.\n",
    "x = np.random.randn(N, D_in)\n",
    "y = np.random.randn(N, D_out)"
   ]
  },
  {
   "cell_type": "code",
   "execution_count": 4,
   "metadata": {},
   "outputs": [],
   "source": [
    "# Randomly initialize weights.\n",
    "w1 = np.random.randn(D_in, H)\n",
    "w2 = np.random.randn(H, D_out)"
   ]
  },
  {
   "cell_type": "code",
   "execution_count": 5,
   "metadata": {},
   "outputs": [],
   "source": [
    "# Learning rate.\n",
    "lr = 1e-6"
   ]
  },
  {
   "cell_type": "code",
   "execution_count": 6,
   "metadata": {
    "scrolled": true
   },
   "outputs": [
    {
     "name": "stdout",
     "output_type": "stream",
     "text": [
      "t = 500\tloss = 0.000001655"
     ]
    }
   ],
   "source": [
    "# Training iterations.\n",
    "train_iter = 500\n",
    "\n",
    "for t in range(train_iter):\n",
    "    # Foward pass.\n",
    "    h = x.dot(w1)\n",
    "    h_relu = np.maximum(h, 0)\n",
    "    y_pred = h_relu.dot(w2)\n",
    "    \n",
    "    # Compute loss: Squared error.\n",
    "    loss = np.square(y - y_pred).sum()\n",
    "    \n",
    "    # Print loss and current time step.\n",
    "    print(f'\\rt = {t+1:,}\\tloss = {loss:.4f}', end='')\n",
    "    \n",
    "    # Back propagation: Compute gradients\n",
    "    # of w1 and w2 w.r.t. loss.\n",
    "    grad_y_pred = 2.0 * (y_pred - y)\n",
    "    grad_w2 = h_relu.T.dot(grad_y_pred)\n",
    "    grad_h_relu = grad_y_pred.dot(w2.T)\n",
    "    grad_h = grad_h_relu.copy()\n",
    "    grad_h[h < 0] = 0\n",
    "    grad_w1 = x.T.dot(grad_h)\n",
    "    \n",
    "    # Update weights using Gradient Descent.\n",
    "    w1 -= lr * grad_w1\n",
    "    w2 -= lr * grad_w2"
   ]
  },
  {
   "cell_type": "markdown",
   "metadata": {},
   "source": [
    "# Warm up – `PyTorch`: Tensors"
   ]
  },
  {
   "cell_type": "markdown",
   "metadata": {},
   "source": [
    "`Numpy` is a great framework, but it cannot utilize GPUs to accelerate its numerical computations. For modern deep neural networks, GPUs often provide speedups of [50x or greater](https://github.com/jcjohnson/cnn-benchmarks), so unfortunately `numpy` won’t be enough for modern deep learning.\n",
    "\n",
    "Here we introduce the most fundamental `PyTorch` concept: *the Tensor*. **A PyTorch Tensor** is conceptually identical to a numpy array: a Tensor is an *n-dimensional* array, and PyTorch provides many functions for operating on these Tensors. Like numpy arrays, PyTorch Tensors do not know anything about deep learning or computational graphs or gradients; they are a generic tool for scientific computing.\n",
    "\n",
    "However unlike numpy, PyTorch Tensors can utilize GPUs to accelerate their numeric computations. To run a PyTorch Tensor on GPU, you simply need to cast it to a new datatype.\n",
    "\n",
    "Here we use PyTorch Tensors to fit a two-layer network to random data. Like the numpy example above we need to manually implement the forward and backward passes through the network:"
   ]
  },
  {
   "cell_type": "code",
   "execution_count": 1,
   "metadata": {},
   "outputs": [],
   "source": [
    "# Typical PyTorch import.\n",
    "import torch"
   ]
  },
  {
   "cell_type": "code",
   "execution_count": 2,
   "metadata": {},
   "outputs": [],
   "source": [
    "# If you have cuda enabled with torch, use it\n",
    "# otherwise, run on the CPU.\n",
    "dtype = torch.cuda.FloatTensor if torch.cuda.is_available() else torch.FloatTensor"
   ]
  },
  {
   "cell_type": "code",
   "execution_count": 3,
   "metadata": {},
   "outputs": [],
   "source": [
    "# N is batch size; D_in is input dimension;\n",
    "# H is hidden dimension; D_out is output dimension.\n",
    "N, D_in, H, D_out = 64, 1000, 100, 10"
   ]
  },
  {
   "cell_type": "code",
   "execution_count": 4,
   "metadata": {},
   "outputs": [],
   "source": [
    "# Create random input and output data.\n",
    "x = torch.randn(N, D_in).type(dtype)\n",
    "y = torch.randn(N, D_out).type(dtype)"
   ]
  },
  {
   "cell_type": "code",
   "execution_count": 5,
   "metadata": {},
   "outputs": [],
   "source": [
    "# Randomly initialize weights.\n",
    "w1 = torch.randn(D_in, H).type(dtype)\n",
    "w2 = torch.randn(H, D_out).type(dtype)"
   ]
  },
  {
   "cell_type": "code",
   "execution_count": 6,
   "metadata": {},
   "outputs": [],
   "source": [
    "# Learning rate.\n",
    "lr = 1e-6"
   ]
  },
  {
   "cell_type": "code",
   "execution_count": 7,
   "metadata": {},
   "outputs": [
    {
     "name": "stdout",
     "output_type": "stream",
     "text": [
      "t = 500\tloss = 0.0083716"
     ]
    }
   ],
   "source": [
    "# Training iterations.\n",
    "train_iter = 500\n",
    "\n",
    "for t in range(train_iter):\n",
    "    # Forward pass.\n",
    "    h = x.mm(w1)\n",
    "    h_relu = h.clamp(min=0)\n",
    "    y_pred = h_relu.mm(w2)\n",
    "    \n",
    "    # Compute loss: Squared error.\n",
    "    loss = (y_pred - y).pow(2).sum()\n",
    "    print(f'\\rt = {t+1:,}\\tloss = {loss:.2f}', end='')\n",
    "    \n",
    "    # Back propagation: Compute gradients\n",
    "    # of w1 and w2 w.r.t. loss.\n",
    "    grad_y_pred = 2.0 * (y_pred - y)\n",
    "    grad_w2 = h_relu.t().mm(grad_y_pred)\n",
    "    grad_h_relu = grad_y_pred.mm(w2.t())\n",
    "    grad_h = grad_h_relu.clone()\n",
    "    grad_h[h < 0] = 0\n",
    "    grad_w1 = x.t().mm(grad_h)\n",
    "    \n",
    "    # Update weights using Gradient Descent.\n",
    "    w1 -= lr * grad_w1\n",
    "    w2 -= lr * grad_w2"
   ]
  },
  {
   "cell_type": "markdown",
   "metadata": {},
   "source": [
    "## Autograd\n",
    "\n",
    "### PyTorch: Variables and autograd\n",
    "\n",
    "In the above examples, we had to manually implement both the forward and backward passes of our neural network. Manually implementing the backward pass is not a big deal for a small two-layer network, but can quickly get very hairy for large complex networks.\n",
    "\n",
    "Thankfully, we can use [automatic differentiation](https://en.wikipedia.org/wiki/Automatic_differentiation) to automate the computation of backward passes in neural networks. The `autograd` package in PyTorch provides exactly this functionality. When using `autograd`, the forward pass of your network will define a ***computational graph***; nodes in the graph will be *Tensors*, and edges will be *functions* that produce output Tensors from input Tensors. Backpropagating through this graph then allows you to easily compute gradients.\n",
    "\n",
    "This sounds complicated, it’s pretty simple to use in practice. We wrap our PyTorch Tensors in `Variable` objects; a `Variable` represents a node in a *computational graph*. If `x` is a `Variable` then `x.data` is a Tensor, and `x.grad` is another Variable holding the gradient of `x` with respect to some scalar value.\n",
    "\n",
    "PyTorch Variables have the same API as PyTorch Tensors: (almost) any operation that you can perform on a Tensor also works on Variables; the difference is that using Variables defines a computational graph, allowing you to automatically compute gradients.\n",
    "\n",
    "Here we use PyTorch Variables and `autograd` to implement our two-layer network; now we no longer need to manually implement the backward pass through the network:"
   ]
  },
  {
   "cell_type": "code",
   "execution_count": 1,
   "metadata": {},
   "outputs": [],
   "source": [
    "# Typical PyTorch import.\n",
    "import torch\n",
    "\n",
    "# Import Variable from the PyTorch's autograd package.\n",
    "from torch.autograd import Variable"
   ]
  },
  {
   "cell_type": "code",
   "execution_count": 2,
   "metadata": {},
   "outputs": [],
   "source": [
    "# If you have cuda enabled with torch, use it\n",
    "# otherwise, run on the CPU.\n",
    "dtype = torch.cuda.FloatTensor if torch.cuda.is_available() else torch.FloatTensor"
   ]
  },
  {
   "cell_type": "code",
   "execution_count": 3,
   "metadata": {},
   "outputs": [],
   "source": [
    "# N is batch size; D_in is input dimension;\n",
    "# H is hidden dimension; D_out is output dimension.\n",
    "N, D_in, H, D_out = 64, 1000, 100, 10"
   ]
  },
  {
   "cell_type": "code",
   "execution_count": 4,
   "metadata": {},
   "outputs": [],
   "source": [
    "# Create random Tensors to hold inputs and outputs, and wrap them in\n",
    "# Variables. Setting requires_grad to False indicates we don't need to\n",
    "# compute gradients w.r.t. these Variables during the backward pass.\n",
    "x = Variable(torch.randn(N, D_in).type(dtype), requires_grad=False)\n",
    "y = Variable(torch.randn(N, D_out).type(dtype), requires_grad=False)"
   ]
  },
  {
   "cell_type": "code",
   "execution_count": 5,
   "metadata": {},
   "outputs": [],
   "source": [
    "# Create random Tensors for weights and wrap them in Variable. \n",
    "# Setting requires_grad to True indicates we want to compute\n",
    "# gradients w.r.t. these Variables during the backward pass.\n",
    "w1 = Variable(torch.randn(D_in, H).type(dtype), requires_grad=True)\n",
    "w2 = Variable(torch.randn(H, D_out).type(dtype), requires_grad=True)"
   ]
  },
  {
   "cell_type": "code",
   "execution_count": 6,
   "metadata": {},
   "outputs": [],
   "source": [
    "# Learning rate.\n",
    "lr = 1e-6"
   ]
  },
  {
   "cell_type": "code",
   "execution_count": 7,
   "metadata": {},
   "outputs": [
    {
     "name": "stdout",
     "output_type": "stream",
     "text": [
      "t = 500\tloss = 0.0074408"
     ]
    }
   ],
   "source": [
    "# Training iterations.\n",
    "train_iter = 500\n",
    "\n",
    "for t in range(train_iter):\n",
    "    # Forward pass: compute predicted y using operations\n",
    "    # on Variables; these are exactly the same operations we\n",
    "    # used to compute the forward pass using Tensors, but\n",
    "    # we don't need to keep references to intermediate values\n",
    "    # since we are not implementing the backward pass by hand.\n",
    "    y_pred = x.mm(w1).clamp(min=0).mm(w2)\n",
    "    \n",
    "    # Compute and print loss using operations on the Variables.\n",
    "    # Now loss is a Varaible of shape (1,) and loss.data is a\n",
    "    # Tensor of shape (1,); loss.data[0] is a scalar value holding\n",
    "    # the loss.\n",
    "    loss = (y_pred - y).pow(2).sum()\n",
    "    print(f'\\rt = {t+1:,}\\tloss = {loss.data[0]:.2f}', end='')\n",
    "    \n",
    "    # Use the autograd to compute the backward pass. This will\n",
    "    # compute the gradient of loss w.r.t. to all Variables with\n",
    "    # requires_grad set to True. After this call, w1.grad and\n",
    "    # w2.grad will be holding the gradients of the loss w.r.t.\n",
    "    # w1 and w2 respectively.\n",
    "    loss.backward()\n",
    "    \n",
    "    # Update weights using Gradient Descent; w1.data and w2.data are\n",
    "    # Tensors, w1.grad and w2.grad are variables and w1.grad.data and\n",
    "    # w2.grad.data are Tensors.\n",
    "    w1.data -= lr * w1.grad.data\n",
    "    w2.data -= lr * w2.grad.data\n",
    "    \n",
    "    # Manually zero out the gradient buffer after updating \n",
    "    # the weights to prevent gradient accumulation.\n",
    "    w1.grad.data.zero_()\n",
    "    w2.grad.data.zero_()"
   ]
  },
  {
   "cell_type": "markdown",
   "metadata": {},
   "source": [
    "### PyTorch: Defining new autograd functions\n",
    "\n",
    "Under the hood, each primitive *autograd* operator is really two functions that operate on Tensors. The `forward` function computes output Tensors from input Tensors. The `backward` function receives the gradient of the output Tensors w.r.t. some scalar value, and computes the gradient of the input Tensors w.r.t. that same scalar value.\n",
    "\n",
    "In PyTorch, we can easily define our own *autograd operator* by defining a subclass of `torch.autograd.Function` and implementing the `forward` and `backward` functions. We can then use our new autograd operator by constructing an instance and calling it like a function, passing Variables containing input data.\n",
    "\n",
    "In this example we define our own custom autograd function for performing the *ReLU nonlinearity*, and use it to implement our two-layer network:"
   ]
  },
  {
   "cell_type": "code",
   "execution_count": 1,
   "metadata": {},
   "outputs": [],
   "source": [
    "# Typical PyTorch import\n",
    "import torch\n",
    "\n",
    "# Import Variable from the PyTorch's autograd package.\n",
    "from torch.autograd import Variable"
   ]
  },
  {
   "cell_type": "code",
   "execution_count": 2,
   "metadata": {},
   "outputs": [],
   "source": [
    "class MyReLU(torch.autograd.Function):\n",
    "    \"\"\"\n",
    "    We can build our own custom autograd functions\n",
    "    by creating a subclass of the `torch.autograd.Function`\n",
    "    class and overriding the `forward` and `backward`\n",
    "    static methods.\n",
    "    \"\"\"\n",
    "    \n",
    "    @staticmethod\n",
    "    def forward(ctx, input):\n",
    "        \"\"\"\n",
    "        In the forward pass, we recieve a Tensor containing\n",
    "        the input and return a tensor containing the computed\n",
    "        output. In this case, we return the ReLU activation.\n",
    "        \n",
    "        `ctx` is a context object that can be used to stack \n",
    "        information for backward computation. You can cache \n",
    "        arbitrary objects for use in the backward pass using \n",
    "        `ctx.save_for_backward` method.\n",
    "        \"\"\"\n",
    "        ctx.save_for_backward(input)\n",
    "        return input.clamp(min=0)\n",
    "    \n",
    "    @staticmethod\n",
    "    def backward(ctx, grad_output):\n",
    "        \"\"\"\n",
    "        We recieve the gradient of the loss w.r.t. the output.\n",
    "        Now, we compute the gradient of the loss w.r.t. the input.\n",
    "        \n",
    "        `ctx` is a context object that can also be used to get\n",
    "        stored information in the forward pass. The saved Tensors\n",
    "        is stored in the `ctx.saved_tesnors`. The `ctx.saved_tensors`\n",
    "        returns a tuple of saved tensors.\n",
    "        \n",
    "        Since we saved a single Tensor, the saved_tesnor contains\n",
    "        a single value therefore we unpack it by having a comma (,)\n",
    "        after the variable name:\n",
    "        \n",
    "        >>> names = ('John',)  # Comma after the 1st element.\n",
    "        >>> john, = names\n",
    "        >>> print(john)\n",
    "        'John'\n",
    "        \n",
    "        >>> names = ('John')  # No comma\n",
    "        >>> (john) = names\n",
    "        >>> print(john)\n",
    "        'John'\n",
    "        \n",
    "        \"\"\"\n",
    "        input, = ctx.saved_tensors\n",
    "        grad_input = grad_output.clone()\n",
    "        grad_input[input < 0] = 0  # ReLU derivative.\n",
    "        return grad_input"
   ]
  },
  {
   "cell_type": "code",
   "execution_count": 3,
   "metadata": {},
   "outputs": [],
   "source": [
    "# If you have cuda enabled with torch, use it\n",
    "# otherwise, run on the CPU.\n",
    "dtype = torch.cuda.FloatTensor if torch.cuda.is_available() else torch.FloatTensor"
   ]
  },
  {
   "cell_type": "code",
   "execution_count": 4,
   "metadata": {},
   "outputs": [],
   "source": [
    "# N is batch size; D_in is input dimension;\n",
    "# H is hidden dimension; D_out is output dimension.\n",
    "N, D_in, H, D_out = 64, 1000, 100, 10"
   ]
  },
  {
   "cell_type": "code",
   "execution_count": 5,
   "metadata": {},
   "outputs": [],
   "source": [
    "# Create random Tensors to hold inputs and outputs, and wrap them in\n",
    "# Variables. Setting requires_grad to False indicates we don't need to\n",
    "# compute gradients w.r.t. these Variables during the backward pass.\n",
    "x = Variable(torch.randn(N, D_in).type(dtype), requires_grad=False)\n",
    "y = Variable(torch.randn(N, D_out).type(dtype), requires_grad=False)"
   ]
  },
  {
   "cell_type": "code",
   "execution_count": 6,
   "metadata": {},
   "outputs": [],
   "source": [
    "# Create random Tensors for weights and wrap them in Variable. \n",
    "# Setting requires_grad to True indicates we want to compute\n",
    "# gradients w.r.t. these Variables during the backward pass.\n",
    "w1 = Variable(torch.randn(D_in, H).type(dtype), requires_grad=True)\n",
    "w2 = Variable(torch.randn(H, D_out).type(dtype), requires_grad=True)"
   ]
  },
  {
   "cell_type": "code",
   "execution_count": 7,
   "metadata": {},
   "outputs": [],
   "source": [
    "# Learning rate.\n",
    "lr = 1e-6"
   ]
  },
  {
   "cell_type": "code",
   "execution_count": 8,
   "metadata": {},
   "outputs": [
    {
     "name": "stdout",
     "output_type": "stream",
     "text": [
      "t = 500\tloss = 0.0097190"
     ]
    }
   ],
   "source": [
    "# Training iterations.\n",
    "train_iter = 500\n",
    "\n",
    "for t in range(train_iter):\n",
    "    # We don't create an instance of our custom class,\n",
    "    # instead we use the `Function.apply` to apply our \n",
    "    # custom activation function.\n",
    "    # We apply because we want PyTorch to still keep\n",
    "    # the computations inside the current graph, and\n",
    "    # it's history.\n",
    "    relu = MyReLU.apply\n",
    "    \n",
    "    # Forward pass: We multiply our input by the 1st weight\n",
    "    # matrix (w1) then we use our custom non-linearity\n",
    "    # then matrix multiply the 2nd weight to get our prediction.\n",
    "    y_pred = relu(x.mm(w1)).mm(w2)\n",
    "    \n",
    "    # Compute and print loss using operations on the Variables.\n",
    "    loss = (y_pred - y).pow(2).sum()\n",
    "    print(f'\\rt = {t+1:,}\\tloss = {loss.data[0]:.2f}', end='')\n",
    "    \n",
    "    # Use the autograd to compute the backward pass. \n",
    "    loss.backward()\n",
    "    \n",
    "    # Update the weights using Gradient Descent.\n",
    "    w1.data -= lr * w1.grad.data\n",
    "    w2.data -= lr * w2.grad.data\n",
    "    \n",
    "    # Manually zero out the gradient buffer after updating \n",
    "    # the weights to prevent gradient accumulation.\n",
    "    w1.grad.data.zero_()\n",
    "    w2.grad.data.zero_()"
   ]
  },
  {
   "cell_type": "code",
   "execution_count": null,
   "metadata": {},
   "outputs": [],
   "source": []
  }
 ],
 "metadata": {
  "kernelspec": {
   "display_name": "Python 3",
   "language": "python",
   "name": "python3"
  },
  "language_info": {
   "codemirror_mode": {
    "name": "ipython",
    "version": 3
   },
   "file_extension": ".py",
   "mimetype": "text/x-python",
   "name": "python",
   "nbconvert_exporter": "python",
   "pygments_lexer": "ipython3",
   "version": "3.6.4"
  }
 },
 "nbformat": 4,
 "nbformat_minor": 2
}
