{
 "cells": [
  {
   "cell_type": "markdown",
   "metadata": {},
   "source": [
    "# Full implementation using the MNIST dataset."
   ]
  },
  {
   "cell_type": "code",
   "execution_count": 1,
   "metadata": {},
   "outputs": [],
   "source": [
    "%matplotlib inline\n",
    "\n",
    "# Custom utility class\n",
    "from utils import *\n",
    "\n",
    "# pytorch imports\n",
    "import torch\n",
    "import torch.nn as nn\n",
    "import torch.optim as optim\n",
    "import torch.nn.functional as F\n",
    "from torch.autograd import Variable\n",
    "\n",
    "# Special package provided by pytorch\n",
    "import torchvision\n",
    "import torchvision.transforms as transforms"
   ]
  },
  {
   "cell_type": "code",
   "execution_count": 2,
   "metadata": {},
   "outputs": [],
   "source": [
    "## Hyperparameters.\n",
    "\n",
    "# If CUDA is enabled, use the GPU, otherwise use the CPU.\n",
    "has_gpu = torch.cuda.is_available()\n",
    "\n",
    "# image channel 3=RGB, 1=Grayscale\n",
    "img_channels = 1\n",
    "\n",
    "# Class labels.\n",
    "classes = CLASS_LABELS['mnist']\n",
    "num_classes = len(classes)\n",
    "\n",
    "# Data directory.\n",
    "data_dir = '../datasets/mnist'  # Dataset directory.\n",
    "download = True                 # Download dataset iff not already downloaded.\n",
    "normalize = 0.5                 # Normalize dataset.\n",
    "\n",
    "# Training parameters\n",
    "batch_size = 16  # Mini-batch size.\n",
    "lr = 1e-2        # Optimizer's learning rate.\n",
    "epochs = 5       # Number of full passes over entire dataset."
   ]
  },
  {
   "cell_type": "code",
   "execution_count": 3,
   "metadata": {
    "scrolled": false
   },
   "outputs": [],
   "source": [
    "# Should normalize images or not.\n",
    "# Normalization helps convergence.\n",
    "if normalize:\n",
    "    # Transform rule: Convert to Tensor, Normalize images in range -1 to 1.\n",
    "    transform = transforms.Compose([transforms.ToTensor(), \n",
    "                                    transforms.Normalize((0.5, 0.5, 0.5), \n",
    "                                                         (0.5, 0.5, 0.5))])\n",
    "else:\n",
    "    # Transform rule: Convert to Tensor without normalizing image\n",
    "    transform = transforms.Compose([transforms.ToTensor()])\n",
    "\n",
    "# Download the training set and apply the transform rule to each.\n",
    "trainset = torchvision.datasets.MNIST(root=data_dir, train=True, download=download, transform=transform)\n",
    "# Load the training set into mini-batches and shuffle them\n",
    "trainset = torch.utils.data.DataLoader(trainset, batch_size=batch_size, shuffle=True, num_workers=2)\n",
    "\n",
    "# Download the testing set and apply the transform rule to each.\n",
    "testset = torchvision.datasets.MNIST(root=data_dir, train=False, download=download, transform=transform)\n",
    "# Load the testing set into mini-batches without shuffling.\n",
    "testset = torch.utils.data.DataLoader(testset, batch_size=batch_size, shuffle=False, num_workers=2)"
   ]
  },
  {
   "cell_type": "code",
   "execution_count": null,
   "metadata": {},
   "outputs": [],
   "source": []
  }
 ],
 "metadata": {
  "kernelspec": {
   "display_name": "Python 3",
   "language": "python",
   "name": "python3"
  },
  "language_info": {
   "codemirror_mode": {
    "name": "ipython",
    "version": 3
   },
   "file_extension": ".py",
   "mimetype": "text/x-python",
   "name": "python",
   "nbconvert_exporter": "python",
   "pygments_lexer": "ipython3",
   "version": "3.6.4"
  }
 },
 "nbformat": 4,
 "nbformat_minor": 2
}
