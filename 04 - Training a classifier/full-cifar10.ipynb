{
 "cells": [
  {
   "cell_type": "markdown",
   "metadata": {},
   "source": [
    "# Full CIFAR10 Dataset"
   ]
  },
  {
   "cell_type": "code",
   "execution_count": 1,
   "metadata": {},
   "outputs": [],
   "source": [
    "# Full CIFAR10\n",
    "import os.path\n",
    "\n",
    "import numpy as np\n",
    "import matplotlib.pyplot as plt\n",
    "\n",
    "import torch\n",
    "import torch.nn as nn\n",
    "import torch.optim as optim\n",
    "import torch.nn.functional as F\n",
    "from torch.autograd import Variable\n",
    "\n",
    "import torchvision\n",
    "import torchvision.transforms as transforms"
   ]
  },
  {
   "cell_type": "code",
   "execution_count": 2,
   "metadata": {},
   "outputs": [
    {
     "name": "stdout",
     "output_type": "stream",
     "text": [
      "False\n"
     ]
    }
   ],
   "source": [
    "# Data directory\n",
    "data_dir = '../datasets'"
   ]
  },
  {
   "cell_type": "code",
   "execution_count": 3,
   "metadata": {},
   "outputs": [
    {
     "name": "stdout",
     "output_type": "stream",
     "text": [
      "Files already downloaded and verified\n",
      "Files already downloaded and verified\n"
     ]
    }
   ],
   "source": [
    "transform = transforms.Compose([transforms.ToTensor(), transforms.Normalize((0.5, 0.5, 0.5), (0.5, 0.5, 0.5))])\n",
    "\n",
    "# Training set\n",
    "trainset = torchvision.datasets.CIFAR10(root=data_dir, train=True, \n",
    "                                        download=True, transform=transform)\n",
    "trainset = torch.utils.data.DataLoader(trainset, batch_size=4,\n",
    "                                       shuffle=True, num_workers=2)\n",
    "\n",
    "# Testing set\n",
    "testset = torchvision.datasets.CIFAR10(root=data_dir, train=False,\n",
    "                                       download=True, transform=transform)\n",
    "testset = torch.utils.data.DataLoader(testset, batch_size=4,\n",
    "                                      shuffle=False, num_workers=2)\n",
    "\n",
    "classes = ('plane', 'car', 'bird', 'cat', 'deer', 'dog', 'frog', 'horse', 'ship', 'truck')"
   ]
  },
  {
   "cell_type": "code",
   "execution_count": 4,
   "metadata": {},
   "outputs": [
    {
     "name": "stdout",
     "output_type": "stream",
     "text": [
      "Labels: cat ship ship plane\n"
     ]
    },
    {
     "data": {
      "image/png": "[encoded data removed]",
      "text/plain": [
       "<matplotlib.figure.Figure at 0x10a629f98>"
      ]
     },
     "metadata": {},
     "output_type": "display_data"
    }
   ],
   "source": [
    "# Plotting few examples\n",
    "def imshow(img, smooth=False):\n",
    "    # Unnormalize the image\n",
    "    img = img / 2 + 0.5  # unnormalize image\n",
    "    np_img = img.numpy()\n",
    "    # Smooth parameter\n",
    "    smooth = 'spline16' if smooth else 'nearest'\n",
    "    # Plot the image\n",
    "    plt.title('Test image')\n",
    "    plt.imshow(np.transpose(np_img, (1, 2, 0)), interpolation=smooth)\n",
    "\n",
    "\n",
    "# Load images\n",
    "data = iter(testset)\n",
    "images, labels = data.next()\n",
    "\n",
    "# Show images and labels\n",
    "imshow(torchvision.utils.make_grid(images))\n",
    "print('Labels: {}'.format(' '.join(classes[ labels[i] ] for i in range(4))))"
   ]
  },
  {
   "cell_type": "code",
   "execution_count": 5,
   "metadata": {},
   "outputs": [],
   "source": [
    "class Network(nn.Module):\n",
    "    def __init__(self, **kwargs):\n",
    "        super(Network, self).__init__()\n",
    "        # Keyword arguments\n",
    "        self._img_channel = kwargs.get('img_channel', 3)\n",
    "        self._num_classes = kwargs.get('num_classes', 10)\n",
    "        \n",
    "        # Network structure\n",
    "        self.conv1 = nn.Conv2d(self._img_channel, 16, 4)\n",
    "        self.conv2 = nn.Conv2d(16, 64, 4)\n",
    "        self.pool = nn.MaxPool2d(2, 2)\n",
    "        self.fc1 = nn.Linear(64*5*5, 256)\n",
    "        self.fc2 = nn.Linear(256, 128)\n",
    "        self.fc3 = nn.Linear(128, self._num_classes)\n",
    "        \n",
    "    def forward(self, x):\n",
    "        # Convolutional layers\n",
    "        x = F.relu(self.pool(self.conv1(x)))\n",
    "        x = F.relu(self.pool(self.conv2(x)))\n",
    "        # Flatten layer\n",
    "        x = x.view(-1, self._flatten(x))\n",
    "        # Fully connected layers\n",
    "        x = F.relu(self.fc1(x))\n",
    "        x = F.relu(F.dropout(self.fc2(x), p=0.5))\n",
    "        x = F.softmax(self.fc3(x), dim=1)\n",
    "        return x\n",
    "    \n",
    "    def _flatten(self, x):\n",
    "        size = x.size()[1:]\n",
    "        return torch.Tensor(size).numel()"
   ]
  },
  {
   "cell_type": "code",
   "execution_count": 6,
   "metadata": {},
   "outputs": [],
   "source": [
    "net = Network(img_channel=3, num_classes=10)"
   ]
  },
  {
   "cell_type": "code",
   "execution_count": 7,
   "metadata": {},
   "outputs": [],
   "source": [
    "# Loss function and optimizer\n",
    "loss_func = nn.CrossEntropyLoss()\n",
    "optimizer = optim.Adam(net.parameters(), lr=1e-2)"
   ]
  },
  {
   "cell_type": "code",
   "execution_count": 8,
   "metadata": {},
   "outputs": [
    {
     "name": "stdout",
     "output_type": "stream",
     "text": [
      "Epoch: 1\tIter: 12,500\tLoss: 2.4612\n",
      "Epoch: 2\tIter: 12,500\tLoss: 2.4612\n",
      "Epoch: 3\tIter: 12,500\tLoss: 2.2112\n",
      "Epoch: 4\tIter: 12,500\tLoss: 2.4612\n",
      "Epoch: 5\tIter: 12,500\tLoss: 1.9612\n",
      "Finished training!\n"
     ]
    }
   ],
   "source": [
    "# Training loop\n",
    "for epoch in range(5):\n",
    "    \n",
    "    for i, data in enumerate(trainset):\n",
    "        inputs, labels = data\n",
    "        inputs, labels = Variable(inputs), Variable(labels)\n",
    "        # Forward + loss \n",
    "        outputs = net(inputs)\n",
    "        loss = loss_func(outputs, labels)\n",
    "        loss.backward()  # Back propagate\n",
    "        # Updates learnable params\n",
    "        optimizer.step()\n",
    "        \n",
    "        print(f'\\rEpoch: {epoch+1:,}\\tIter: {i+1:,}\\tLoss: {loss.data[0]:.4f}', end='')\n",
    "    print()\n",
    "print('Finished training!')"
   ]
  },
  {
   "cell_type": "code",
   "execution_count": null,
   "metadata": {},
   "outputs": [],
   "source": []
  },
  {
   "cell_type": "code",
   "execution_count": null,
   "metadata": {},
   "outputs": [],
   "source": []
  }
 ],
 "metadata": {
  "kernelspec": {
   "display_name": "Python 3",
   "language": "python",
   "name": "python3"
  },
  "language_info": {
   "codemirror_mode": {
    "name": "ipython",
    "version": 3
   },
   "file_extension": ".py",
   "mimetype": "text/x-python",
   "name": "python",
   "nbconvert_exporter": "python",
   "pygments_lexer": "ipython3",
   "version": "3.6.4"
  }
 },
 "nbformat": 4,
 "nbformat_minor": 2
}
