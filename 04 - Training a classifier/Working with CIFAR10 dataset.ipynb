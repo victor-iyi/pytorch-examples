{
 "cells": [
  {
   "cell_type": "markdown",
   "metadata": {},
   "source": [
    "# Working With The CIFAR10 Dataset"
   ]
  },
  {
   "cell_type": "markdown",
   "metadata": {},
   "source": [
    "This is it. You've seen how to define a simple convolutional neural network, compute loss w.r.t. the graph Variables, and make gradient updates manually and with `torch.nn.optim` package.\n",
    "Now you might be thinking:\n",
    "\n",
    "### What about the data?\n",
    "\n",
    "Generally, when you have to deal with image, text, audio or video data, you can use standard python packages that load data into a numpy array. Then you can convert this array into a `torch.*Tensor`.\n",
    "\n",
    "- For images, packages such as `Pillow`, `OpenCV` are useful.\n",
    "- For audio, packages such as `scipy` and `librosa`.\n",
    "- For text, either raw Python or Cython based loading, or `NLTK` and `SpaCy` are useful.\n",
    "\n",
    "Specifically for [Computer vision](), the creators of pytorch have generously created a package called `torchvision`, that has data loaders for common datasets such as Imagenet, CIFAR10, MNIST, etc. and data transformers for images, viz., `torchvision.datasets` and `torch.utils.data.DataLoader`. This provides a huge convinence from writing boiler plate code.\n",
    "\n",
    "We will use the **CIFAR10 dataset**. It has the classes: *‘airplane’, ‘automobile’, ‘bird’, ‘cat’, ‘deer’, ‘dog’, ‘frog’, ‘horse’, ‘ship’, ‘truck’*. The images in CIFAR-10 are of size `3x32x32`, i.e. 3-channel color images of `32x32` pixels in size.\n",
    "\n",
    "![CIFAR10 Dataset](../images/cifar10.png)"
   ]
  },
  {
   "cell_type": "markdown",
   "metadata": {},
   "source": [
    "### Training an image classifier\n",
    "\n",
    "We will do the following steps in order:\n",
    "\n",
    "1. Load and normalizing the CIFAR10 training and test datasets using `torchvision`.\n",
    "2. Define a Convolution Neural Network.\n",
    "3. Define a loss function.\n",
    "4. Train the network on the training data.\n",
    "5. Test the network on the test data.\n",
    "\n",
    "#### 1. Loading and normalizing CIFAR10\n",
    "Using `torchvision`, it’s extremely easy to load CIFAR10."
   ]
  },
  {
   "cell_type": "code",
   "execution_count": 1,
   "metadata": {},
   "outputs": [],
   "source": [
    "%matplotlib inline\n",
    "\n",
    "# file manipulation\n",
    "import os\n",
    "\n",
    "# arrays and visualization\n",
    "import numpy as np\n",
    "import matplotlib.pyplot as plt\n",
    "\n",
    "# pytorch imports\n",
    "import torch\n",
    "import torch.nn as nn\n",
    "import torch.optim as optim\n",
    "import torch.nn.functional as F\n",
    "from torch.autograd import Variable\n",
    "\n",
    "# Special package provided by pytorch\n",
    "import torchvision\n",
    "import torchvision.transforms as transforms"
   ]
  },
  {
   "cell_type": "markdown",
   "metadata": {},
   "source": [
    "The output of the `torchvision` dataset are PILImage images of range [0, 1]. We transform them to Tensors of normalized range [-1, 1].\n",
    "\n",
    "Define the data directory, i.e. where the data should be downloaded to. With the use of `os.path` module.\n",
    "\n",
    "**NOTE:** `data_dir` could be modified to fit your use."
   ]
  },
  {
   "cell_type": "code",
   "execution_count": 2,
   "metadata": {},
   "outputs": [],
   "source": [
    "# Transform rule\n",
    "transform = transforms.Compose([transforms.ToTensor(), \n",
    "                                transforms.Normalize((0.5, 0.5, 0.5), \n",
    "                                                     (0.5, 0.5, 0.5))])\n",
    "\n",
    "# download parameters\n",
    "data_dir = '../datasets'\n",
    "download = not os.path.exists(os.path.join(data_dir, 'cifar-10-batches-py'))\n",
    "\n",
    "# Download the dataset\n",
    "trainset = torchvision.datasets.CIFAR10(root=data_dir, train=True, \n",
    "                                        download=download, transform=transform)\n",
    "testset = torchvision.datasets.CIFAR10(root=data_dir, train=False, \n",
    "                                       download=download, transform=transform)\n",
    "\n",
    "# loaders\n",
    "trainset = torch.utils.data.DataLoader(trainset, batch_size=4, shuffle=True, num_workers=2)\n",
    "testset = torch.utils.data.DataLoader(testset, batch_size=4, shuffle=False, num_workers=2)\n",
    "\n",
    "# class labels\n",
    "classes = ('plane', 'car', 'bird', 'cat', 'deer', 'dog', 'frog', 'horse', 'ship', 'truck')"
   ]
  },
  {
   "cell_type": "code",
   "execution_count": 3,
   "metadata": {},
   "outputs": [
    {
     "name": "stdout",
     "output_type": "stream",
     "text": [
      "plane frog deer ship\n"
     ]
    },
    {
     "data": {
      "image/png": "[encoded data removed]",
      "text/plain": [
       "<matplotlib.figure.Figure at 0x10a858f28>"
      ]
     },
     "metadata": {},
     "output_type": "display_data"
    }
   ],
   "source": [
    "# Let's visualize the data\n",
    "\n",
    "def imshow(img):\n",
    "    img = img / 2 + 0.5  # unnormalize\n",
    "    np_img = img.numpy()\n",
    "    plt.imshow(np.transpose(np_img, (1, 2, 0)))\n",
    "\n",
    "# Get random training images\n",
    "train_iter = iter(trainset)\n",
    "images, labels = train_iter.next()\n",
    "\n",
    "# show images\n",
    "imshow(torchvision.utils.make_grid(images))\n",
    "\n",
    "# print labels\n",
    "print(' '.join(classes[ labels[i] ] for i in range(4)))"
   ]
  },
  {
   "cell_type": "markdown",
   "metadata": {},
   "source": [
    "### 2. Define a Convolution Neural Network\n",
    "\n",
    "It's time to define our neural network. You've already seen how to define a simple convolutional neural network in the last section. But this time, instead of a single color channel, we have 3-color channels, because the CIFAR10 dataset contains colored images."
   ]
  },
  {
   "cell_type": "code",
   "execution_count": 4,
   "metadata": {},
   "outputs": [],
   "source": [
    "class Network(nn.Module):\n",
    "    \n",
    "    def __init__(self, **kwargs):\n",
    "        super(Network, self).__init__()\n",
    "        \n",
    "        # Hyper-parameters\n",
    "        self._img_channels = kwargs.get('img_channels', 3)\n",
    "        self._num_classes = kwargs.get('num_classes', 10)\n",
    "        \n",
    "        # 2 convolutional & 3 fully connected layers\n",
    "        self.conv1 = nn.Conv2d(self._img_channels, 6, 1)\n",
    "        self.conv2 = nn.Conv2d(6, 16, 1)\n",
    "        flatten_size = self.conv2.out_channels * 8 * 8\n",
    "        self.fc1 = nn.Linear(flatten_size, 120)\n",
    "        self.fc2 = nn.Linear(120, 84)\n",
    "        self.fc3 = nn.Linear(84, self._num_classes)\n",
    "    \n",
    "    def forward(self, x):\n",
    "        # Convolutional layers\n",
    "        x = F.relu(F.max_pool2d(self.conv1(x), 2))\n",
    "        x = F.relu(F.max_pool2d(self.conv2(x), 2))\n",
    "        # Flatten layer\n",
    "        x = x.view(-1, self._flatten(x))\n",
    "        # Fully connected layers\n",
    "        x = F.relu(self.fc1(x))     # relu + linear\n",
    "        x = F.dropout(x, p=0.5)     # 50% dropout\n",
    "        x = F.relu(self.fc2(x))     # relu + linear\n",
    "        x = F.sigmoid(self.fc3(x))  # sigmoid + linear\n",
    "        return x\n",
    "    \n",
    "    def _flatten(self, x):\n",
    "        size = x.size()[1:]  # input shape excluding batch dim.\n",
    "        return torch.Tensor(size).numel()"
   ]
  },
  {
   "cell_type": "code",
   "execution_count": 5,
   "metadata": {},
   "outputs": [],
   "source": [
    "# Instantiate the network and pass in our parameters\n",
    "net = Network(img_channels=3, num_classes=len(classes))"
   ]
  },
  {
   "cell_type": "markdown",
   "metadata": {},
   "source": [
    "### 3. Define a Loss function and optimizer\n",
    "\n",
    "Let’s use a Classification Cross-Entropy loss and SGD with momentum."
   ]
  },
  {
   "cell_type": "code",
   "execution_count": 6,
   "metadata": {},
   "outputs": [],
   "source": [
    "loss_func = nn.CrossEntropyLoss()\n",
    "optimizer = optim.SGD(net.parameters(), lr=1e-2, momentum=0.9)"
   ]
  },
  {
   "cell_type": "markdown",
   "metadata": {},
   "source": [
    "### 4. Train the Network\n",
    "\n",
    "This is when things start to get interesting. We simply have to loop over our data iterator, and feed the inputs to the network and optimize it."
   ]
  },
  {
   "cell_type": "code",
   "execution_count": 7,
   "metadata": {},
   "outputs": [
    {
     "name": "stdout",
     "output_type": "stream",
     "text": [
      "Epoch: 1\tIter: 12,500\tLoss: 2.1317\n",
      "\n",
      "Epoch: 2\tIter: 12,500\tLoss: 2.6726\n",
      "\n",
      "Epoch: 3\tIter: 12,500\tLoss: 2.2183\n",
      "\n",
      "Epoch: 4\tIter: 12,500\tLoss: 2.2183\n",
      "\n",
      "Epoch: 5\tIter: 12,500\tLoss: 2.4683\n",
      "\n",
      "\n",
      "Finished training!\n"
     ]
    }
   ],
   "source": [
    "for epoch in range(5):  # loop over the data multiple times\n",
    "\n",
    "    # loop through the training dataset (batch by batch)\n",
    "    for i, data in enumerate(trainset, 0):\n",
    "        # get the inputs and labels\n",
    "        inputs, labels = data\n",
    "        # wrap them in Variable (explain in section 2.)\n",
    "        inputs, labels = Variable(inputs), Variable(labels)\n",
    "        \n",
    "        # zero the optimizer gradient buffer\n",
    "        # to prevent gradient accumulation.\n",
    "        optimizer.zero_grad()\n",
    "        \n",
    "        # forward + backward + optimizer\n",
    "        outputs = net(inputs)\n",
    "        loss = loss_func(outputs, labels)\n",
    "        loss.backward()\n",
    "        optimizer.step()\n",
    "        \n",
    "        # print statistics\n",
    "        print(f'\\rEpoch: {epoch+1:,}\\tIter: {i+1:,}\\tLoss: {loss.data[0]:.4f}', end='')\n",
    "    print('\\n')  # line break\n",
    "\n",
    "\n",
    "print('\\nFinished training!')"
   ]
  },
  {
   "cell_type": "code",
   "execution_count": null,
   "metadata": {},
   "outputs": [],
   "source": []
  }
 ],
 "metadata": {
  "kernelspec": {
   "display_name": "Python 3",
   "language": "python",
   "name": "python3"
  },
  "language_info": {
   "codemirror_mode": {
    "name": "ipython",
    "version": 3
   },
   "file_extension": ".py",
   "mimetype": "text/x-python",
   "name": "python",
   "nbconvert_exporter": "python",
   "pygments_lexer": "ipython3",
   "version": "3.6.4"
  }
 },
 "nbformat": 4,
 "nbformat_minor": 2
}
