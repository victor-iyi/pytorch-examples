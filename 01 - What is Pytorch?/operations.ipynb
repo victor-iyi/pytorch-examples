{
 "cells": [
  {
   "cell_type": "markdown",
   "metadata": {},
   "source": [
    "### Operations with `pytorch`"
   ]
  },
  {
   "cell_type": "code",
   "execution_count": 1,
   "metadata": {},
   "outputs": [],
   "source": [
    "import torch"
   ]
  },
  {
   "cell_type": "markdown",
   "metadata": {},
   "source": [
    "### Addition"
   ]
  },
  {
   "cell_type": "code",
   "execution_count": 2,
   "metadata": {},
   "outputs": [],
   "source": [
    "x = torch.Tensor(5, 3)\n",
    "y = torch.rand(5, 3)"
   ]
  },
  {
   "cell_type": "code",
   "execution_count": 3,
   "metadata": {},
   "outputs": [
    {
     "name": "stdout",
     "output_type": "stream",
     "text": [
      "tensor([[ 3.0410e-01,  8.4190e-01,  3.4996e-01],\n",
      "        [ 4.7828e-01,         nan,  8.7231e-01],\n",
      "        [ 2.0315e+20,  2.7829e-01,  1.3088e+22],\n",
      "        [ 5.2897e+22,  6.2538e-01,  7.5638e-01],\n",
      "        [ 3.1520e-01,  3.3090e+21,  7.9566e-01]])\n"
     ]
    }
   ],
   "source": [
    "print(x + y)"
   ]
  },
  {
   "cell_type": "code",
   "execution_count": 4,
   "metadata": {},
   "outputs": [
    {
     "name": "stdout",
     "output_type": "stream",
     "text": [
      "tensor([[ 3.0410e-01,  8.4190e-01,  3.4996e-01],\n",
      "        [ 4.7828e-01,         nan,  8.7231e-01],\n",
      "        [ 2.0315e+20,  2.7829e-01,  1.3088e+22],\n",
      "        [ 5.2897e+22,  6.2538e-01,  7.5638e-01],\n",
      "        [ 3.1520e-01,  3.3090e+21,  7.9566e-01]])\n"
     ]
    }
   ],
   "source": [
    "out = x + y\n",
    "print(out)"
   ]
  },
  {
   "cell_type": "code",
   "execution_count": 5,
   "metadata": {},
   "outputs": [
    {
     "name": "stdout",
     "output_type": "stream",
     "text": [
      "tensor([[ 3.0410e-01,  8.4190e-01,  3.4996e-01],\n",
      "        [ 4.7828e-01,         nan,  8.7231e-01],\n",
      "        [ 2.0315e+20,  2.7829e-01,  1.3088e+22],\n",
      "        [ 5.2897e+22,  6.2538e-01,  7.5638e-01],\n",
      "        [ 3.1520e-01,  3.3090e+21,  7.9566e-01]])\n"
     ]
    }
   ],
   "source": [
    "# syntax 2:\n",
    "print(torch.add(x, y))"
   ]
  },
  {
   "cell_type": "code",
   "execution_count": 6,
   "metadata": {},
   "outputs": [
    {
     "name": "stdout",
     "output_type": "stream",
     "text": [
      "tensor([[ 3.0410e-01,  8.4190e-01,  3.4996e-01],\n",
      "        [ 4.7828e-01,         nan,  8.7231e-01],\n",
      "        [ 2.0315e+20,  2.7829e-01,  1.3088e+22],\n",
      "        [ 5.2897e+22,  6.2538e-01,  7.5638e-01],\n",
      "        [ 3.1520e-01,  3.3090e+21,  7.9566e-01]])\n"
     ]
    }
   ],
   "source": [
    "out = torch.add(x, y)\n",
    "print(out)"
   ]
  },
  {
   "cell_type": "code",
   "execution_count": 7,
   "metadata": {},
   "outputs": [
    {
     "name": "stdout",
     "output_type": "stream",
     "text": [
      "tensor([[ 3.0410e-01,  8.4190e-01,  3.4996e-01],\n",
      "        [ 4.7828e-01,         nan,  8.7231e-01],\n",
      "        [ 2.0315e+20,  2.7829e-01,  1.3088e+22],\n",
      "        [ 5.2897e+22,  6.2538e-01,  7.5638e-01],\n",
      "        [ 3.1520e-01,  3.3090e+21,  7.9566e-01]])\n"
     ]
    }
   ],
   "source": [
    "result = torch.Tensor(5, 3)\n",
    "torch.add(x, y, out=result)\n",
    "print(result)"
   ]
  },
  {
   "cell_type": "code",
   "execution_count": 8,
   "metadata": {},
   "outputs": [
    {
     "name": "stdout",
     "output_type": "stream",
     "text": [
      "tensor([[ 3.0410e-01,  8.4190e-01,  3.4996e-01],\n",
      "        [ 4.7828e-01,         nan,  8.7231e-01],\n",
      "        [ 2.0315e+20,  2.7829e-01,  1.3088e+22],\n",
      "        [ 5.2897e+22,  6.2538e-01,  7.5638e-01],\n",
      "        [ 3.1520e-01,  3.3090e+21,  7.9566e-01]])\n"
     ]
    }
   ],
   "source": [
    "# in-place\n",
    "y.add_(x)\n",
    "print(y)"
   ]
  },
  {
   "cell_type": "markdown",
   "metadata": {},
   "source": [
    "**NOTE:** Any operation that mutates a tensor in-pace is post-fixed with an `_`. For example: `x.copy_(y)`, `x.t_()`, will change `x`."
   ]
  },
  {
   "cell_type": "code",
   "execution_count": 9,
   "metadata": {},
   "outputs": [
    {
     "name": "stdout",
     "output_type": "stream",
     "text": [
      "tensor([ 0.0000e+00,         nan,  1.1038e-05,  8.4639e-07,  3.3090e+21])\n"
     ]
    }
   ],
   "source": [
    "# You can use standard NumPy-like indexing\n",
    "print(x[:, 1])"
   ]
  },
  {
   "cell_type": "markdown",
   "metadata": {},
   "source": [
    "### Reshaping: `Tensor.view(*shape)`"
   ]
  },
  {
   "cell_type": "code",
   "execution_count": 10,
   "metadata": {},
   "outputs": [
    {
     "name": "stdout",
     "output_type": "stream",
     "text": [
      "x.size() = torch.Size([4, 4])\n",
      "y.size() = torch.Size([16])\n",
      "z.size() = torch.Size([2, 8])\n"
     ]
    }
   ],
   "source": [
    "x = torch.rand(4, 4)\n",
    "y = x.view(16)\n",
    "z = x.view(-1, 8)  # the size -1 is inferred from other dimensions\n",
    "print('x.size() = {}'.format(x.size()))\n",
    "print('y.size() = {}'.format(y.size()))\n",
    "print('z.size() = {}'.format(z.size()))"
   ]
  },
  {
   "cell_type": "code",
   "execution_count": 11,
   "metadata": {},
   "outputs": [
    {
     "name": "stdout",
     "output_type": "stream",
     "text": [
      "a.size() = torch.Size([2, 8])\n"
     ]
    }
   ],
   "source": [
    "# Tensor.view_as(Tensor)\n",
    "\n",
    "a = x.view_as(z)  # inferred from a Tensor shape\n",
    "print('a.size() = {}'.format(a.size()))"
   ]
  }
 ],
 "metadata": {
  "kernelspec": {
   "display_name": "Python 3",
   "language": "python",
   "name": "python3"
  },
  "language_info": {
   "codemirror_mode": {
    "name": "ipython",
    "version": 3
   },
   "file_extension": ".py",
   "mimetype": "text/x-python",
   "name": "python",
   "nbconvert_exporter": "python",
   "pygments_lexer": "ipython3",
   "version": "3.6.5"
  }
 },
 "nbformat": 4,
 "nbformat_minor": 2
}
