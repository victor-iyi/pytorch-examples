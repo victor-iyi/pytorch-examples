{
 "cells": [
  {
   "cell_type": "markdown",
   "metadata": {},
   "source": [
    "### Operations with `pytorch`"
   ]
  },
  {
   "cell_type": "code",
   "execution_count": 1,
   "metadata": {},
   "outputs": [],
   "source": [
    "import torch"
   ]
  },
  {
   "cell_type": "markdown",
   "metadata": {},
   "source": [
    "### Addition"
   ]
  },
  {
   "cell_type": "code",
   "execution_count": 2,
   "metadata": {},
   "outputs": [
    {
     "name": "stdout",
     "output_type": "stream",
     "text": [
      "tensor([[ 0.7166,  0.5940,  0.0428],\n",
      "        [ 0.8187,  0.8350,  0.5269],\n",
      "        [ 0.3619,  0.4527,  0.6936],\n",
      "        [ 0.2971,  0.8350,  0.4947],\n",
      "        [ 0.1850,  0.5780,  0.1578]])\n"
     ]
    }
   ],
   "source": [
    "x = torch.Tensor(5, 3)\n",
    "y = torch.rand(5, 3)\n",
    "\n",
    "print(x + y)"
   ]
  },
  {
   "cell_type": "code",
   "execution_count": 3,
   "metadata": {},
   "outputs": [
    {
     "name": "stdout",
     "output_type": "stream",
     "text": [
      "tensor([[ 0.7166,  0.5940,  0.0428],\n",
      "        [ 0.8187,  0.8350,  0.5269],\n",
      "        [ 0.3619,  0.4527,  0.6936],\n",
      "        [ 0.2971,  0.8350,  0.4947],\n",
      "        [ 0.1850,  0.5780,  0.1578]])\n"
     ]
    }
   ],
   "source": [
    "# Syntax 1:\n",
    "out = x + y\n",
    "print(out)"
   ]
  },
  {
   "cell_type": "code",
   "execution_count": 4,
   "metadata": {},
   "outputs": [
    {
     "name": "stdout",
     "output_type": "stream",
     "text": [
      "tensor([[ 0.7166,  0.5940,  0.0428],\n",
      "        [ 0.8187,  0.8350,  0.5269],\n",
      "        [ 0.3619,  0.4527,  0.6936],\n",
      "        [ 0.2971,  0.8350,  0.4947],\n",
      "        [ 0.1850,  0.5780,  0.1578]])\n"
     ]
    }
   ],
   "source": [
    "# Syntax 2:\n",
    "print(torch.add(x, y))"
   ]
  },
  {
   "cell_type": "code",
   "execution_count": 5,
   "metadata": {},
   "outputs": [
    {
     "name": "stdout",
     "output_type": "stream",
     "text": [
      "tensor([[ 0.7166,  0.5940,  0.0428],\n",
      "        [ 0.8187,  0.8350,  0.5269],\n",
      "        [ 0.3619,  0.4527,  0.6936],\n",
      "        [ 0.2971,  0.8350,  0.4947],\n",
      "        [ 0.1850,  0.5780,  0.1578]])\n"
     ]
    }
   ],
   "source": [
    "out = torch.add(x, y)\n",
    "print(out)"
   ]
  },
  {
   "cell_type": "code",
   "execution_count": 6,
   "metadata": {},
   "outputs": [
    {
     "name": "stdout",
     "output_type": "stream",
     "text": [
      "tensor([[ 0.7166,  0.5940,  0.0428],\n",
      "        [ 0.8187,  0.8350,  0.5269],\n",
      "        [ 0.3619,  0.4527,  0.6936],\n",
      "        [ 0.2971,  0.8350,  0.4947],\n",
      "        [ 0.1850,  0.5780,  0.1578]])\n"
     ]
    }
   ],
   "source": [
    "result = torch.Tensor(5, 3)\n",
    "torch.add(x, y, out=result)\n",
    "print(result)"
   ]
  },
  {
   "cell_type": "code",
   "execution_count": 7,
   "metadata": {
    "scrolled": true
   },
   "outputs": [
    {
     "name": "stdout",
     "output_type": "stream",
     "text": [
      "tensor([[ 0.7166,  0.5940,  0.0428],\n",
      "        [ 0.8187,  0.8350,  0.5269],\n",
      "        [ 0.3619,  0.4527,  0.6936],\n",
      "        [ 0.2971,  0.8350,  0.4947],\n",
      "        [ 0.1850,  0.5780,  0.1578]])\n"
     ]
    }
   ],
   "source": [
    "# in-place\n",
    "y.add_(x)\n",
    "print(y)"
   ]
  },
  {
   "cell_type": "markdown",
   "metadata": {},
   "source": [
    "> **NOTE:** Any operation that mutates a tensor in-pace is post-fixed with an `_`. For example: `x.copy_(y)`, `x.t_()`, will change `x`."
   ]
  },
  {
   "cell_type": "code",
   "execution_count": 8,
   "metadata": {},
   "outputs": [
    {
     "name": "stdout",
     "output_type": "stream",
     "text": [
      "tensor(1.00000e-39 *\n",
      "       [ 0.0000,  0.0000,  0.0000,  7.6851,  0.0000])\n"
     ]
    }
   ],
   "source": [
    "# You can use standard NumPy-like indexing\n",
    "print(x[:, 1])"
   ]
  },
  {
   "cell_type": "markdown",
   "metadata": {},
   "source": [
    "### Reshaping: `Tensor.view(*shape)`"
   ]
  },
  {
   "cell_type": "code",
   "execution_count": 9,
   "metadata": {},
   "outputs": [
    {
     "name": "stdout",
     "output_type": "stream",
     "text": [
      "x.size() = torch.Size([4, 4])\n",
      "y.size() = torch.Size([16])\n",
      "z.size() = torch.Size([2, 8])\n"
     ]
    }
   ],
   "source": [
    "x = torch.rand(4, 4)\n",
    "y = x.view(16)\n",
    "z = x.view(-1, 8)  # the size -1 is inferred from other dimensions\n",
    "\n",
    "print('x.size() = {}'.format(x.size()))\n",
    "print('y.size() = {}'.format(y.size()))\n",
    "print('z.size() = {}'.format(z.size()))"
   ]
  },
  {
   "cell_type": "code",
   "execution_count": 10,
   "metadata": {
    "scrolled": true
   },
   "outputs": [
    {
     "name": "stdout",
     "output_type": "stream",
     "text": [
      "a.size() = torch.Size([2, 8])\n"
     ]
    }
   ],
   "source": [
    "# Tensor.view_as(Tensor)\n",
    "\n",
    "a = x.view_as(z)  # inferred from a Tensor shape\n",
    "print('a.size() = {}'.format(a.size()))"
   ]
  },
  {
   "cell_type": "code",
   "execution_count": 11,
   "metadata": {},
   "outputs": [
    {
     "name": "stdout",
     "output_type": "stream",
     "text": [
      "tensor([[ 0.8429,  0.8422,  0.3102,  0.4824],\n",
      "        [ 0.6741,  0.3650,  0.5389,  0.6560],\n",
      "        [ 0.8008,  0.1852,  0.0369,  0.3659],\n",
      "        [ 0.3848,  0.6965,  0.6806,  0.8309]])\n",
      "tensor([[ 0.8429,  0.8422,  0.3102,  0.4824,  0.6741,  0.3650,  0.5389,\n",
      "          0.6560],\n",
      "        [ 0.8008,  0.1852,  0.0369,  0.3659,  0.3848,  0.6965,  0.6806,\n",
      "          0.8309]])\n"
     ]
    }
   ],
   "source": [
    "print(x)\n",
    "print(a)"
   ]
  },
  {
   "cell_type": "markdown",
   "metadata": {},
   "source": [
    "If you have a one element tensor, use `.item()` to get the value as a Python number."
   ]
  },
  {
   "cell_type": "code",
   "execution_count": 12,
   "metadata": {},
   "outputs": [
    {
     "name": "stdout",
     "output_type": "stream",
     "text": [
      "Tensor: tensor([ 0.4394])\n",
      "Value:  0.4393714666366577\n"
     ]
    }
   ],
   "source": [
    "x = torch.rand(1)\n",
    "print('Tensor: {}'.format(x))\n",
    "print('Value:  {}'.format(x.item()))"
   ]
  },
  {
   "cell_type": "markdown",
   "metadata": {},
   "source": [
    "### NumPy Bridge\n",
    "\n",
    "Converting a Torch Tensor to a NumPy array and vice versa is a breeze.\n",
    "\n",
    "> The Torch Tensor and NumPy array will share their underlying memory locations, and changing one will change the other.\n",
    "\n",
    "#### Converting a Torch Tensor to a NumPy Array"
   ]
  },
  {
   "cell_type": "code",
   "execution_count": 13,
   "metadata": {},
   "outputs": [
    {
     "name": "stdout",
     "output_type": "stream",
     "text": [
      "tensor([ 1.,  1.,  1.,  1.,  1.])\n"
     ]
    }
   ],
   "source": [
    "# a is a torch tensor.\n",
    "a = torch.ones(5)\n",
    "print(a)"
   ]
  },
  {
   "cell_type": "code",
   "execution_count": 14,
   "metadata": {},
   "outputs": [
    {
     "name": "stdout",
     "output_type": "stream",
     "text": [
      "[1. 1. 1. 1. 1.]\n"
     ]
    }
   ],
   "source": [
    "# b is a numpy array.\n",
    "b = a.numpy()\n",
    "print(b)"
   ]
  },
  {
   "cell_type": "code",
   "execution_count": 15,
   "metadata": {},
   "outputs": [
    {
     "name": "stdout",
     "output_type": "stream",
     "text": [
      "tensor([ 2.,  2.,  2.,  2.,  2.])\n",
      "[2. 2. 2. 2. 2.]\n"
     ]
    }
   ],
   "source": [
    "# a & b share the same memory location.\n",
    "# changing a will change b & vice versa.\n",
    "a.add_(1)\n",
    "print(a)\n",
    "print(b)"
   ]
  },
  {
   "cell_type": "markdown",
   "metadata": {},
   "source": [
    "#### Converting NumPy Array to Torch Tensor\n",
    "\n",
    "> See how changing the Numpy array changed the Torch Tensor automatically. "
   ]
  },
  {
   "cell_type": "code",
   "execution_count": 16,
   "metadata": {},
   "outputs": [],
   "source": [
    "import numpy as np"
   ]
  },
  {
   "cell_type": "code",
   "execution_count": 17,
   "metadata": {},
   "outputs": [
    {
     "name": "stdout",
     "output_type": "stream",
     "text": [
      "[1. 1. 1. 1. 1.]\n",
      "tensor([ 1.,  1.,  1.,  1.,  1.], dtype=torch.float64)\n"
     ]
    }
   ],
   "source": [
    "a = np.ones(5)\n",
    "b = torch.from_numpy(a)\n",
    "print(a)\n",
    "print(b)"
   ]
  },
  {
   "cell_type": "code",
   "execution_count": 18,
   "metadata": {},
   "outputs": [
    {
     "name": "stdout",
     "output_type": "stream",
     "text": [
      "[2. 2. 2. 2. 2.]\n",
      "tensor([ 2.,  2.,  2.,  2.,  2.], dtype=torch.float64)\n"
     ]
    }
   ],
   "source": [
    "a += 1\n",
    "print(a)\n",
    "print(b)"
   ]
  },
  {
   "cell_type": "markdown",
   "metadata": {},
   "source": [
    "> **NOTE**: All the Tensors on the CPU except a CharTensor support converting to NumPy and back."
   ]
  },
  {
   "cell_type": "markdown",
   "metadata": {},
   "source": [
    "### CUDA Tensors\n",
    "\n",
    "Tensors can be moved onto any device using the `.to` method."
   ]
  },
  {
   "cell_type": "code",
   "execution_count": 19,
   "metadata": {},
   "outputs": [
    {
     "name": "stdout",
     "output_type": "stream",
     "text": [
      "CUDA isn't available on this device.\n"
     ]
    }
   ],
   "source": [
    "# Let's run this cell only if CUDA is available\n",
    "# We will use ``torch.device`` objects to move tensors in and out of GPU\n",
    "if torch.cuda.is_available():\n",
    "    # a CUDA device object.\n",
    "    device = torch.device(\"cuda\")\n",
    "    \n",
    "    # Directly create a tensor on GPU\n",
    "    y = torch.ones_like(x, device=device)\n",
    "    \n",
    "    # or just use strings ``.to(\"cuda\")``\n",
    "    x = x.to(device)\n",
    "    \n",
    "    # GPU tensor operations are performed on GPU.\n",
    "    z = x + y\n",
    "    \n",
    "    # Still on GPU.\n",
    "    print(z)\n",
    "    \n",
    "    # Send tensor to CPU. ``.to`` can also change dtype together!\n",
    "    print(z.to(\"cpu\", torch.double))\n",
    "    \n",
    "else:\n",
    "    print(\"CUDA isn't available on this device.\")"
   ]
  }
 ],
 "metadata": {
  "kernelspec": {
   "display_name": "Python 3",
   "language": "python",
   "name": "python3"
  },
  "language_info": {
   "codemirror_mode": {
    "name": "ipython",
    "version": 3
   },
   "file_extension": ".py",
   "mimetype": "text/x-python",
   "name": "python",
   "nbconvert_exporter": "python",
   "pygments_lexer": "ipython3",
   "version": "3.6.5"
  }
 },
 "nbformat": 4,
 "nbformat_minor": 2
}
